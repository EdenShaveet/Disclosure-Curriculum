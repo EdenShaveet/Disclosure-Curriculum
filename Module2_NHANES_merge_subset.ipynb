{
  "nbformat": 4,
  "nbformat_minor": 0,
  "metadata": {
    "colab": {
      "name": "NHANES_merge_subset.ipynb",
      "provenance": [],
      "collapsed_sections": [],
      "authorship_tag": "ABX9TyPJahUVVU08f5qXh6M35QAh",
      "include_colab_link": true
    },
    "kernelspec": {
      "name": "python3",
      "display_name": "Python 3"
    },
    "language_info": {
      "name": "python"
    }
  },
  "cells": [
    {
      "cell_type": "markdown",
      "metadata": {
        "id": "view-in-github",
        "colab_type": "text"
      },
      "source": [
        "<a href=\"https://colab.research.google.com/github/EdenShaveet/Disclosure-Curriculum/blob/main/Module2_NHANES_merge_subset.ipynb\" target=\"_parent\"><img src=\"https://colab.research.google.com/assets/colab-badge.svg\" alt=\"Open In Colab\"/></a>"
      ]
    },
    {
      "cell_type": "markdown",
      "source": [
        "# Module Exercise: Merge, Subset & Preprocess NHANES Data (then disclose your methods!)\n",
        "**Script Description:** Merges and subsets pre-pandemic demographic and body measurement data from NHANES, and provides acommpanying methods disclosure text\n",
        "\n",
        "**Instructions:** Download two NHANES datasets from GitHub and upload them to this script in the code blocks marked with the symbols \"⬅️🗂️.\" Run each code block sequentially to merge and subset the datasets to pre-defined characteristics. Review the methods disclosures at the end of this script and revise/add details as you see fit."
      ],
      "metadata": {
        "id": "8f-kotpDiaXW"
      }
    },
    {
      "cell_type": "markdown",
      "source": [
        "First, let's import necessary packages."
      ],
      "metadata": {
        "id": "ho44sFCVjFph"
      }
    },
    {
      "cell_type": "code",
      "execution_count": null,
      "metadata": {
        "id": "q-FRfXl7m_yc"
      },
      "outputs": [],
      "source": [
        "# Import packages\n",
        "import pandas as pd\n",
        "import seaborn as sns\n",
        "import io"
      ]
    },
    {
      "cell_type": "markdown",
      "source": [
        "# Download NHANES Datasets from GitHub"
      ],
      "metadata": {
        "id": "UUUb0U_gg6Ae"
      }
    },
    {
      "cell_type": "markdown",
      "source": [
        "Download pre-pandemic (2017-2020) [demographic NHANES data](https://wwwn.cdc.gov/Nchs/Nhanes/2017-2018/P_DEMO.htm) as an xlsx file from [HERE](https://github.com/EdenShaveet/Disclosure-Curriculum/blob/main/NHANES_Demo_2017_2020.xlsx).\n",
        "\n",
        "Download pre-pandemic (2017-2020) [body measures NHANES data](https://wwwn.cdc.gov/Nchs/Nhanes/2017-2018/P_BMX.htm) as a xlsx file from [HERE](https://github.com/EdenShaveet/Disclosure-Curriculum/blob/main/NHANES_Body_2017_2020.xlsx)."
      ],
      "metadata": {
        "id": "bRwkGW9cjOaC"
      }
    },
    {
      "cell_type": "markdown",
      "source": [
        "# Upload & View Data"
      ],
      "metadata": {
        "id": "tsKKjzAanTuw"
      }
    },
    {
      "cell_type": "markdown",
      "source": [
        "Run the following code block, select \"choose files,\" and select your downloaded demographic dataset (NHANES_Demo_2017_2020.xlsx)"
      ],
      "metadata": {
        "id": "CzClXKAvnsk8"
      }
    },
    {
      "cell_type": "code",
      "source": [
        "# Upload Demographic dataset\n",
        "from google.colab import files\n",
        "uploaded = files.upload()"
      ],
      "metadata": {
        "id": "FlGcsCXQngyU"
      },
      "execution_count": null,
      "outputs": []
    },
    {
      "cell_type": "code",
      "source": [
        "# Name demographic dataset as \"df_demo\"\n",
        "df_demo = pd.read_excel(io.BytesIO(uploaded['NHANES_Demo_2017_2020.xlsx']))\n",
        "# Return dataset preview\n",
        "df_demo"
      ],
      "metadata": {
        "id": "UREZWkzfo52p"
      },
      "execution_count": null,
      "outputs": []
    },
    {
      "cell_type": "markdown",
      "source": [
        "Let's take a look at the shape of our diet dataset\n",
        "\n",
        "*Based on information from NHANES, we expect to see **15,560** cases (rows) and **29** variables (columns)*"
      ],
      "metadata": {
        "id": "3TL7kfkKrskb"
      }
    },
    {
      "cell_type": "code",
      "source": [
        "df_demo.shape"
      ],
      "metadata": {
        "id": "oIatbgZhpcGs"
      },
      "execution_count": null,
      "outputs": []
    },
    {
      "cell_type": "markdown",
      "source": [
        "Run the following code block, select \"choose files,\" and select your downloaded dietary dataset (NHANES_Diet_2017_2020.xlsx)"
      ],
      "metadata": {
        "id": "Nb4xH0OVooHX"
      }
    },
    {
      "cell_type": "code",
      "source": [
        "# Upload Body Measures dataset\n",
        "from google.colab import files\n",
        "uploaded = files.upload()"
      ],
      "metadata": {
        "id": "nODgTx0OpnBk"
      },
      "execution_count": null,
      "outputs": []
    },
    {
      "cell_type": "code",
      "source": [
        "# Name diet dataset as \"df_body\"\n",
        "df_body = pd.read_excel(io.BytesIO(uploaded['NHANES_Body_2017_2020.xlsx']))\n",
        "# Return dataset preview\n",
        "df_body"
      ],
      "metadata": {
        "id": "erv67F7lp2jq"
      },
      "execution_count": null,
      "outputs": []
    },
    {
      "cell_type": "markdown",
      "source": [
        "Let's take a look at the shape of our diet dataset.\n",
        "\n",
        "*Based on information from NHANES, we expect to see **14,300** cases or rows and **22** columns or variables*"
      ],
      "metadata": {
        "id": "3OzoHDgTpuck"
      }
    },
    {
      "cell_type": "code",
      "source": [
        "df_body.shape"
      ],
      "metadata": {
        "id": "sQGfedJtpiL8"
      },
      "execution_count": null,
      "outputs": []
    },
    {
      "cell_type": "markdown",
      "source": [
        "# Merge Datasets"
      ],
      "metadata": {
        "id": "hw_v-hehoyrF"
      }
    },
    {
      "cell_type": "markdown",
      "source": [
        "We are going to merge our two datasets on the unique NHANES respondent identifier: \"SEQN\""
      ],
      "metadata": {
        "id": "G_PUeC-5o9X3"
      }
    },
    {
      "cell_type": "code",
      "source": [
        "# Merge demographic and body measures datasets\n",
        "df_merged = pd.merge(df_demo, df_body, on='seqn', how ='inner')\n",
        "# Return merged dataset\n",
        "df_merged"
      ],
      "metadata": {
        "id": "zxd0TSalrC8g"
      },
      "execution_count": null,
      "outputs": []
    },
    {
      "cell_type": "markdown",
      "source": [
        "Let's take a look at the shape of our merged dataset.\n",
        "\n",
        "*Since we performed an inner merge, we expect to see **14,300** cases (the same number as our least populated dataset: our body measures dataset) and **50** variables because our demographic dataset contains 29 variables, our dietary dataset contains 22 variables, and we merged on one variable. (29+22)-1=50*"
      ],
      "metadata": {
        "id": "0YgUniCMpQmR"
      }
    },
    {
      "cell_type": "code",
      "source": [
        "# View dataset shape (rows, columns)\n",
        "df_merged.shape"
      ],
      "metadata": {
        "id": "gafrcyx3uLS1"
      },
      "execution_count": null,
      "outputs": []
    },
    {
      "cell_type": "markdown",
      "source": [
        "# Subset Dataset (Exclusions)"
      ],
      "metadata": {
        "id": "HnuNJm_MsXqC"
      }
    },
    {
      "cell_type": "markdown",
      "source": [
        "Let's say we are only interested in maintaining a dataset that contains the demographic and body measurement data of females aged 18+ years who were born in a U.S. state or Washington D.C.\n",
        "\n",
        "We're going to subset our dataset to include only those individuals."
      ],
      "metadata": {
        "id": "agne8tWYscOM"
      }
    },
    {
      "cell_type": "code",
      "source": [
        "# Subset to females 18+ born in U.S. state or D.C.\n",
        "df = df_merged[(df_merged.riagendr==2) & (df_merged.ridageyr>17) & (df_merged.dmdborn4==1)]\n",
        "df"
      ],
      "metadata": {
        "id": "eZBVKlxd6FUX"
      },
      "execution_count": null,
      "outputs": []
    },
    {
      "cell_type": "markdown",
      "source": [
        "Let's say we also wish to exclude any case that is missing measurements for upper arm length or arm circumference"
      ],
      "metadata": {
        "id": "TfeLGAFz69Uj"
      }
    },
    {
      "cell_type": "code",
      "source": [
        "# Exclude those who did not provide measurements for upper arm length or arm circumference.\n",
        "df = df[(df.bmiarml != 1) | (df.bmiarmc != 1)]\n",
        "df"
      ],
      "metadata": {
        "id": "5Yi_c-bq8Pdn"
      },
      "execution_count": null,
      "outputs": []
    },
    {
      "cell_type": "markdown",
      "source": [
        "# Download Dataset"
      ],
      "metadata": {
        "id": "bB641RA4GNPg"
      }
    },
    {
      "cell_type": "markdown",
      "source": [
        "Let's download our new dataset and save it in a place we'll rememver (You'll need it again in a later module)"
      ],
      "metadata": {
        "id": "J4YQ7tZlGRgy"
      }
    },
    {
      "cell_type": "code",
      "source": [
        "df.to_csv('NHANES_subset.csv')\n",
        "files.download('NHANES_subset.csv')"
      ],
      "metadata": {
        "id": "rKgoyxCy-9k7"
      },
      "execution_count": null,
      "outputs": []
    },
    {
      "cell_type": "markdown",
      "source": [
        "# Methods Disclosure"
      ],
      "metadata": {
        "id": "rhCPNh4jtUAs"
      }
    },
    {
      "cell_type": "markdown",
      "source": [
        "Now, let's **disclose** our data acquisition and preprocessing (merging, subsetting/excluding) methods in such a way that if someone wanted to reproduce our methods, they could.\n",
        "\n",
        "*Feel free to add your own revisions or additions to this disclosure!*"
      ],
      "metadata": {
        "id": "jUrT5h5-GkuV"
      }
    },
    {
      "cell_type": "markdown",
      "source": [
        "1. **Data Acquisition**\n",
        "* This dataset was initially acquired in May 2022 from two pre-pandemic NHANES datasets: [2017-2020 Demographic Variables and Sample Weights](https://wwwn.cdc.gov/Nchs/Nhanes/2017-2018/P_DEMO.htm#RIDAGEYR) and [2017-2020 Body Measures](https://wwwn.cdc.gov/Nchs/Nhanes/2017-2018/P_BMX.htm#BMIWAIST). Information about sample eligibility is available in each set's linked documentation. Each dataset was converted from an XPT file to a XLSX file using Stata v.17 and made available in a [GitHub repository](https://github.com/EdenShaveet/Disclosure-Curriculum).\n",
        "\n",
        "2. **Data Merging**\n",
        "* An inner merge on participant identifier number was conducted using the Pandas package in Python within a Google Colab notebook. See Colab notebook for code.\n",
        "\n",
        "3. **Data Subsetting**\n",
        "* The merged dataset was subset to include only females aged 18+ at the time of participation who were born in a U.S. state or D.C. We additionally excluded respondents for whom upper arm length or arm circumference measurements were not obtained, See Colab notebook for code.\n"
      ],
      "metadata": {
        "id": "YJB39pY6GEYD"
      }
    }
  ]
}