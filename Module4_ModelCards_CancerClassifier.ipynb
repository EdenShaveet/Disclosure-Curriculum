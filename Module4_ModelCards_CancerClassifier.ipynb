{
  "cells": [
    {
      "cell_type": "markdown",
      "metadata": {
        "id": "view-in-github",
        "colab_type": "text"
      },
      "source": [
        "<a href=\"https://colab.research.google.com/github/EdenShaveet/Disclosure-Curriculum/blob/main/Module4_ModelCards_CancerClassifier.ipynb\" target=\"_parent\"><img src=\"https://colab.research.google.com/assets/colab-badge.svg\" alt=\"Open In Colab\"/></a>"
      ]
    },
    {
      "cell_type": "markdown",
      "source": [
        "# Module Exercise: Create a Model Card for a Healthcare Dataset\n",
        "\n",
        "---\n",
        "\n",
        "\n",
        "**Script Description:** Outputs a model card as an HTML page\n",
        "\n",
        "**Script Attributions:** *Model Cards for Model Reporting* developed by [Mitchell et al. (2019)](https://arxiv.org/pdf/1810.03993.pdf). Script adapted from Google's [Scikit-Learn Model Card Toolkit Demo](https://github.com/tensorflow/model-card-toolkit/blob/master/model_card_toolkit/documentation/examples/Scikit_Learn_Model_Card_Toolkit_Demo.ipynb). \n",
        "Changes made to the original notebook include addition of comments, annotations, expansion/rephrasing of code block explanations, and re-arrangement of model evaluation steps. *All executable code has been left unchanged.*\n",
        "\n",
        "**Instructions:** Sequentially execute cells to generate a model card for a grantient boosting classifier model using The Breast Cancer Wisconsin Diagnostic dataset. While manual disclosures are already provided, feel free to expand upon or revise them where you see the symbols \"⬅️✏️.\" Refer to the Model Cards module in the MDSD4Health curriculum for a detailed list of model disclosures."
      ],
      "metadata": {
        "id": "6EZODfsllHTE"
      }
    },
    {
      "cell_type": "markdown",
      "metadata": {
        "id": "Tce3stUlHN0L"
      },
      "source": [
        "##### Copyright 2020 The TensorFlow Authors."
      ]
    },
    {
      "cell_type": "code",
      "execution_count": null,
      "metadata": {
        "id": "tuOe1ymfHZPu"
      },
      "outputs": [],
      "source": [
        "#@title Licensed under the Apache License, Version 2.0 (the \"License\");\n",
        "# you may not use this file except in compliance with the License.\n",
        "# You may obtain a copy of the License at\n",
        "#\n",
        "# https://www.apache.org/licenses/LICENSE-2.0\n",
        "#\n",
        "# Unless required by applicable law or agreed to in writing, software\n",
        "# distributed under the License is distributed on an \"AS IS\" BASIS,\n",
        "# WITHOUT WARRANTIES OR CONDITIONS OF ANY KIND, either express or implied.\n",
        "# See the License for the specific language governing permissions and\n",
        "# limitations under the License."
      ]
    },
    {
      "cell_type": "markdown",
      "metadata": {
        "id": "A5epNF_aiYj0"
      },
      "source": [
        "## Background\n",
        "This notebook demonstrates how to generate a model card using the Model Card Toolkit with a scikit-learn model in a Jupyter environment. Learn more about model cards at [https://modelcards.withgoogle.com/about](https://modelcards.withgoogle.com/about).\n",
        "\n",
        "## Setup\n",
        "The first thing we need to do is install and import the necessary packages. Let's start with installing a recent version of [pip](https://pip.pypa.io/en/latest/) (Python Package Index). We'll also be installing the [seaborn](https://pypi.org/project/seaborn/), [scikit-learn](https://pypi.org/project/scikit-learn/), and [model-card-toolkit](https://pypi.org/project/model-card-toolkit/) packages.\n",
        "\n",
        "**NOTE: This cell may take a while to load!**\n",
        "\n",
        "### Upgrade to Pip 20.2 and Install Packages"
      ]
    },
    {
      "cell_type": "code",
      "execution_count": null,
      "metadata": {
        "id": "1OiOQJDPiYj3"
      },
      "outputs": [],
      "source": [
        "!pip install --upgrade pip==21.3\n",
        "!pip install -U seaborn scikit-learn model-card-toolkit"
      ]
    },
    {
      "cell_type": "markdown",
      "metadata": {
        "id": "JpcNkrmLiYj7"
      },
      "source": [
        "### Restart the runtime!\n",
        "\n",
        "The first time that you run the above cell, you will need to restart the runtime. In Colab, select the \"Restart Runtime\" button will appear."
      ]
    },
    {
      "cell_type": "markdown",
      "metadata": {
        "id": "YKbr6rJDC9bk"
      },
      "source": [
        "### Import packages\n",
        "\n",
        "Next, we need to import our necessary packages."
      ]
    },
    {
      "cell_type": "code",
      "execution_count": null,
      "metadata": {
        "id": "y25vFI3WiYj7"
      },
      "outputs": [],
      "source": [
        "from datetime import date\n",
        "from io import BytesIO\n",
        "from IPython import display\n",
        "import model_card_toolkit as mctlib\n",
        "from sklearn.datasets import load_breast_cancer\n",
        "from sklearn.ensemble import GradientBoostingClassifier\n",
        "from sklearn.model_selection import train_test_split\n",
        "from sklearn.metrics import plot_roc_curve, plot_confusion_matrix\n",
        "\n",
        "import base64\n",
        "import matplotlib.pyplot as plt\n",
        "import pandas as pd\n",
        "import seaborn as sns\n",
        "import uuid"
      ]
    },
    {
      "cell_type": "markdown",
      "metadata": {
        "id": "XVdpINibiYj-"
      },
      "source": [
        "## Import data\n",
        "\n",
        "The [Breast Cancer Wisconsin Diagnostic dataset](https://archive.ics.uci.edu/ml/datasets/Breast+Cancer+Wisconsin+(Diagnostic)) is a commonly used to teach about binary classification. Because of this, scikit-learn offers the Breast Cancer Wisconsin Diagnostic as a stock dataset by using the simple [load_breast_cancer()](https://scikit-learn.org/stable/modules/generated/sklearn.datasets.load_breast_cancer.html) function. \n",
        "\n",
        "We will be using this dataset to train and test our classifier."
      ]
    },
    {
      "cell_type": "code",
      "execution_count": null,
      "metadata": {
        "id": "aR6kzqPeiYj_"
      },
      "outputs": [],
      "source": [
        "cancer = load_breast_cancer() # import dataset and assign as object \"cancer\" ⬅️🗂️\n",
        "\n",
        "X = pd.DataFrame(cancer.data, columns=cancer.feature_names) # assign input data as object \"X\"\n",
        "y = pd.Series(cancer.target) # assign classification target variable (malignancy) as object \"y\"\n",
        "\n",
        "X_train, X_test, y_train, y_test = train_test_split(X, y) # split the dataset into training and testing data"
      ]
    },
    {
      "cell_type": "code",
      "execution_count": null,
      "metadata": {
        "id": "DwjxhVtTiYkB"
      },
      "outputs": [],
      "source": [
        "X_train.head() # preview the first 5 rows of the training dataset containing features"
      ]
    },
    {
      "cell_type": "code",
      "execution_count": null,
      "metadata": {
        "id": "fCOK-1gyiYkE"
      },
      "outputs": [],
      "source": [
        "y_train.head() # preview the first 5 rows of the training cancer dataset containing classification target variable (1==benign; 0==malignant)"
      ]
    },
    {
      "cell_type": "markdown",
      "metadata": {
        "id": "KmOnApwWiYkG"
      },
      "source": [
        "## Plot data\n",
        "\n",
        "We will create several plots from both the training and testing data to include in the model card."
      ]
    },
    {
      "cell_type": "code",
      "execution_count": null,
      "metadata": {
        "id": "O9n6rAV7iYkG"
      },
      "outputs": [],
      "source": [
        "# Utility function that will export a plot to a base-64 encoded string that the model card will accept.\n",
        "\n",
        "def plot_to_str():\n",
        "    img = BytesIO()\n",
        "    plt.savefig(img, format='png')\n",
        "    return base64.encodebytes(img.getvalue()).decode('utf-8')"
      ]
    },
    {
      "cell_type": "code",
      "execution_count": null,
      "metadata": {
        "id": "lpZLJG3hiYkI"
      },
      "outputs": [],
      "source": [
        "# Plot the mean radius feature as overlaying histograms for both the train and test sets\n",
        "\n",
        "# Training set\n",
        "sns.displot(x=X_train['mean radius'], hue=y_train)\n",
        "mean_radius_train = plot_to_str()\n",
        "\n",
        "#Testing set\n",
        "sns.displot(x=X_test['mean radius'], hue=y_test)\n",
        "mean_radius_test = plot_to_str()"
      ]
    },
    {
      "cell_type": "code",
      "execution_count": null,
      "metadata": {
        "id": "sFenUqQPiYkK"
      },
      "outputs": [],
      "source": [
        "# Plot the mean texture feature for both the train and test sets\n",
        "\n",
        "# Training set\n",
        "sns.displot(x=X_train['mean texture'], hue=y_train)\n",
        "mean_texture_train = plot_to_str()\n",
        "\n",
        "#Testing set\n",
        "sns.displot(x=X_test['mean texture'], hue=y_test)\n",
        "mean_texture_test = plot_to_str()"
      ]
    },
    {
      "cell_type": "markdown",
      "metadata": {
        "id": "hA7QthuhiYkM"
      },
      "source": [
        "## Train model\n",
        "\n",
        "For this example, we are creating a [Gradient Boosting Classifier](https://medium.com/analytics-vidhya/introduction-to-gradient-boosting-classification-da4e81f54d3)."
      ]
    },
    {
      "cell_type": "code",
      "execution_count": null,
      "metadata": {
        "id": "8VkTo7BxiYkN"
      },
      "outputs": [],
      "source": [
        "# Create classifier and fit the training data\n",
        "\n",
        "clf = GradientBoostingClassifier().fit(X_train, y_train)"
      ]
    },
    {
      "cell_type": "markdown",
      "metadata": {
        "id": "7fo-7XlIiYkP"
      },
      "source": [
        "## Evaluate model\n",
        "\n",
        "To evaluate our classifier, we first display our [confusion matrix](https://developers.google.com/machine-learning/crash-course/classification/true-false-positive-negative) which shows the 2x2 matrix of the classifier's predicted values to the dataset's true values.\n",
        "\n",
        "Using the values contained in our matrix, we then plot a [Receiver Operating Characteristic (ROC) curve](https://developers.google.com/machine-learning/crash-course/classification/roc-and-auc) which shows the performance of a classifier by plotting two parameters: \n",
        "\n",
        "1.) True Positive Rate\n",
        "\n",
        "2.) False Positive Rate"
      ]
    },
    {
      "cell_type": "code",
      "execution_count": null,
      "metadata": {
        "id": "QiNgUZKxiYkR"
      },
      "outputs": [],
      "source": [
        "# Plot a confusion matrix\n",
        "\n",
        "plot_confusion_matrix(clf, X_test, y_test)\n",
        "confusion_matrix = plot_to_str()"
      ]
    },
    {
      "cell_type": "code",
      "execution_count": null,
      "metadata": {
        "id": "_vEWAT2OiYkP"
      },
      "outputs": [],
      "source": [
        "# Plot a ROC curve\n",
        "\n",
        "plot_roc_curve(clf, X_test, y_test)\n",
        "roc_curve = plot_to_str()"
      ]
    },
    {
      "cell_type": "markdown",
      "metadata": {
        "id": "gN48E4y-iYkT"
      },
      "source": [
        "## Create a model card"
      ]
    },
    {
      "cell_type": "markdown",
      "metadata": {
        "id": "CBdRuxURiYkT"
      },
      "source": [
        "### Initialize toolkit and model card\n",
        "\n",
        "The following cell initializes the model card toolkit for later use."
      ]
    },
    {
      "cell_type": "code",
      "execution_count": null,
      "metadata": {
        "id": "CI9ganKQiYkT"
      },
      "outputs": [],
      "source": [
        "mct = mctlib.ModelCardToolkit() #Assign as object \"mct\"\n",
        "\n",
        "model_card = mct.scaffold_assets() #Assign as object \"model_card\""
      ]
    },
    {
      "cell_type": "markdown",
      "metadata": {
        "id": "CERQtrHWiYkV"
      },
      "source": [
        "### Annotate information into model card"
      ]
    },
    {
      "cell_type": "code",
      "execution_count": null,
      "metadata": {
        "id": "TLzNJ_kriYkV"
      },
      "outputs": [],
      "source": [
        "###⬅️✏️Assign model card name as string\n",
        "model_card.model_details.name = 'Breast Cancer Wisconsin (Diagnostic) Dataset'\n",
        "###⬅️✏️Provide model description as string\n",
        "model_card.model_details.overview = (\n",
        "    'This model predicts whether breast cancer is benign or malignant based on ' \n",
        "    'image measurements.')\n",
        "# Disclosre model card ownership (name and contact) as strings\n",
        "model_card.model_details.owners = [\n",
        "    mctlib.Owner(name= 'Model Cards Team', contact='model-cards@google.com')\n",
        "]\n",
        "# Provide model references as string URLs\n",
        "model_card.model_details.references = [\n",
        "    mctlib.Reference(reference='https://archive.ics.uci.edu/ml/datasets/Breast+Cancer+Wisconsin+(Diagnostic)'),\n",
        "    mctlib.Reference(reference='https://minds.wisconsin.edu/bitstream/handle/1793/59692/TR1131.pdf')\n",
        "]\n",
        "# Provide model card version details as universally unique identifier (UUID) (outputs as string)\n",
        "model_card.model_details.version.name = str(uuid.uuid4())\n",
        "# Indicate model card creation date (outputs today's date as string)\n",
        "model_card.model_details.version.date = str(date.today())\n",
        "# Disclose ethical considerations\n",
        "model_card.considerations.ethical_considerations = [mctlib.Risk(\n",
        "    name=('Manual selection of image sections to digitize could create '\n",
        "            'selection bias'), ###⬅️✏️ Disclose risks as string \n",
        "    mitigation_strategy='Automate the selection process' ###⬅️✏️ Disclose mitigation strategies as string\n",
        ")]\n",
        "model_card.considerations.limitations = [mctlib.Limitation(description='Breast cancer diagnosis')] ###⬅️✏️ Disclose model limitations as string\n",
        "model_card.considerations.use_cases = [mctlib.UseCase(description='Breast cancer diagnosis')] ###⬅️✏️ Disclose model use cases as string\n",
        "model_card.considerations.users = [mctlib.User(description='Medical professionals'), mctlib.User(description='ML researchers')] ###⬅️✏️ Disclose intended users as strings\n",
        "\n",
        "# Diplay mean radius and mean texture histograms for training data in model card\n",
        "model_card.model_parameters.data.append(mctlib.Dataset())\n",
        "model_card.model_parameters.data[0].graphics.description = (\n",
        "  f'{len(X_train)} rows with {len(X_train.columns)} features')\n",
        "model_card.model_parameters.data[0].graphics.collection = [\n",
        "    mctlib.Graphic(image=mean_radius_train),\n",
        "    mctlib.Graphic(image=mean_texture_train)\n",
        "]\n",
        "\n",
        "# Diplay mean radius and mean texture histograms for testing data in model card\n",
        "model_card.model_parameters.data.append(mctlib.Dataset())\n",
        "model_card.model_parameters.data[1].graphics.description = (\n",
        "  f'{len(X_test)} rows with {len(X_test.columns)} features')\n",
        "model_card.model_parameters.data[1].graphics.collection = [\n",
        "    mctlib.Graphic(image=mean_radius_test),\n",
        "    mctlib.Graphic(image=mean_texture_test)\n",
        "]\n",
        "\n",
        "# Diplay ROC curve and confusion matrix in model card\n",
        "model_card.quantitative_analysis.graphics.description = (\n",
        "  'ROC curve and confusion matrix')\n",
        "model_card.quantitative_analysis.graphics.collection = [\n",
        "    mctlib.Graphic(image=roc_curve),\n",
        "    mctlib.Graphic(image=confusion_matrix)\n",
        "]\n",
        "\n",
        "mct.update_model_card(model_card)"
      ]
    },
    {
      "cell_type": "markdown",
      "metadata": {
        "id": "TBqFqMHEiYkX"
      },
      "source": [
        "## Generate model card"
      ]
    },
    {
      "cell_type": "code",
      "execution_count": null,
      "metadata": {
        "id": "XUEG7n7ciYkY"
      },
      "outputs": [],
      "source": [
        "# Return model card as an HTML page\n",
        "\n",
        "html = mct.export_format()\n",
        "\n",
        "display.display(display.HTML(html))"
      ]
    }
  ],
  "metadata": {
    "colab": {
      "collapsed_sections": [
        "Tce3stUlHN0L"
      ],
      "name": "ModelCards_CancerClassifier.ipynb",
      "provenance": [],
      "include_colab_link": true
    },
    "environment": {
      "name": "common-cpu.m56",
      "type": "gcloud",
      "uri": "gcr.io/deeplearning-platform-release/base-cpu:m56"
    },
    "kernelspec": {
      "display_name": "Python 3",
      "language": "python",
      "name": "python3"
    },
    "language_info": {
      "codemirror_mode": {
        "name": "ipython",
        "version": 3
      },
      "file_extension": ".py",
      "mimetype": "text/x-python",
      "name": "python",
      "nbconvert_exporter": "python",
      "pygments_lexer": "ipython3",
      "version": "3.7.8"
    }
  },
  "nbformat": 4,
  "nbformat_minor": 0
}
