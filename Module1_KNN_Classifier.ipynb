{
  "nbformat": 4,
  "nbformat_minor": 0,
  "metadata": {
    "colab": {
      "name": "KNN_Classifier.ipynb",
      "provenance": [],
      "collapsed_sections": [],
      "authorship_tag": "ABX9TyN7SSdCgCNzNL23PDBcD+3n",
      "include_colab_link": true
    },
    "kernelspec": {
      "name": "python3",
      "display_name": "Python 3"
    },
    "language_info": {
      "name": "python"
    }
  },
  "cells": [
    {
      "cell_type": "markdown",
      "metadata": {
        "id": "view-in-github",
        "colab_type": "text"
      },
      "source": [
        "<a href=\"https://colab.research.google.com/github/EdenShaveet/Disclosure-Curriculum/blob/main/Module1_KNN_Classifier.ipynb\" target=\"_parent\"><img src=\"https://colab.research.google.com/assets/colab-badge.svg\" alt=\"Open In Colab\"/></a>"
      ]
    },
    {
      "cell_type": "markdown",
      "source": [
        "# Module Exercise: Create a Simple KNN Classifier\n",
        "\n",
        "---\n",
        "\n",
        "\n",
        "**Script Description:** Generates a KNN classifier based on the Wisconsin Breast Cancer (Diagnostic) Dataset\n",
        "\n",
        "**Dataset Description:** The  [Wisconsin-Breast Cancer (Diagnostic) dataset (WBC)](https://archive.ics.uci.edu/ml/datasets/Breast+Cancer+Wisconsin+(Diagnostic)) is a classification dataset sourced from the University of California Urvine Machine Learning Repository. The dataset includes relevant measurements relating to breast cancer cases, including whether a mass was benign and malignant.\n",
        "\n",
        "**Script Attributions:** This script was developed for the Machine Learning Model & Dataset Disclosure for Healthcare & Public Health Contexts (MDSD4Health) Curriculum.\n",
        "\n",
        "**Instructions:** Read each text block and run each corresponding code block to generate a simple K-Nearest Neighbors (KNN) classifier for the Wisconsin Breast Cancer (Diagnostic) Dataset. For help with Python and Colab, see the Python Help page at the MDSD4Health curriculum website."
      ],
      "metadata": {
        "id": "IxOj1vSc8zij"
      }
    },
    {
      "cell_type": "markdown",
      "source": [
        "# Package Management"
      ],
      "metadata": {
        "id": "aUNP4BHgCjL5"
      }
    },
    {
      "cell_type": "markdown",
      "source": [
        "First, let's import necessary packages. **Packages** are discrete software programs, often comprised of several modules (containing several classes, functions, variables, etc.), that \"run\" within Python. \n",
        "\n",
        "For more information about packages and modules in Python, see this [post](https://pythongeeks.org/python-modules-vs-packages/#:~:text=The%20following%20are%20some%20of%20the%20distinctions%20between,import%20all%20modules%20in%20a%20package%20at%20once.) on [Python Geeks](https://pythongeeks.org/)"
      ],
      "metadata": {
        "id": "sYraYLL283pj"
      }
    },
    {
      "cell_type": "code",
      "source": [
        "import pandas as pd\n",
        "from sklearn.datasets import load_breast_cancer\n",
        "import seaborn as sns\n",
        "from sklearn.model_selection import train_test_split\n",
        "from sklearn.neighbors import KNeighborsClassifier\n",
        "from sklearn import metrics"
      ],
      "metadata": {
        "id": "hawHaEiw0lne"
      },
      "execution_count": null,
      "outputs": []
    },
    {
      "cell_type": "markdown",
      "source": [
        "# View Dataset"
      ],
      "metadata": {
        "id": "lgyuyj2ICo5F"
      }
    },
    {
      "cell_type": "markdown",
      "source": [
        "Next, we'll import our dataset using the `load_breast_cancer()` function and view a preview of the dataframe. Take a look at the variables contained in this dataset."
      ],
      "metadata": {
        "id": "YxoY1n5W--Oy"
      }
    },
    {
      "cell_type": "code",
      "source": [
        "df = load_breast_cancer(as_frame=True) # Imports dataset as dataframe and assigns to object \"df\"\n",
        "df.frame # Returns dataframe"
      ],
      "metadata": {
        "id": "DdMRjTrMPZoC"
      },
      "execution_count": null,
      "outputs": []
    },
    {
      "cell_type": "markdown",
      "source": [
        "Our \"target\" variable (our label of interest) is whether a breast mass was benign (1) or malignant (0). Let's take a look at the number of benign and malignant masses descriptively and as a plot."
      ],
      "metadata": {
        "id": "ANnUpZGK_SJl"
      }
    },
    {
      "cell_type": "code",
      "source": [
        "df['target'].value_counts() # Returns count of target variable classes"
      ],
      "metadata": {
        "id": "Eed6zjGvMgrI"
      },
      "execution_count": null,
      "outputs": []
    },
    {
      "cell_type": "markdown",
      "source": [
        "**Output Explanation:** This tabular output shows the raw frequencies of benign (357) and malignant (212) cases in our dataset."
      ],
      "metadata": {
        "id": "B1DySA4Lshx1"
      }
    },
    {
      "cell_type": "code",
      "source": [
        "sns.countplot(df['target']) # Generates plot of target variable classes"
      ],
      "metadata": {
        "id": "AepzEbHzMjLE"
      },
      "execution_count": null,
      "outputs": []
    },
    {
      "cell_type": "markdown",
      "source": [
        "**Output Explanation:** This plot shows the raw frequencies of benign and malignant cases in our dataset as a bar chart."
      ],
      "metadata": {
        "id": "SI0YKoYDuZwj"
      }
    },
    {
      "cell_type": "markdown",
      "source": [
        "# Data Splitting"
      ],
      "metadata": {
        "id": "-ifnueI8Cvak"
      }
    },
    {
      "cell_type": "markdown",
      "source": [
        "Before creating and training a model, we need to split our dataset into training and test subsets. We do this by assigning our indicator variables to object \"X\" and our target variable to object \"y,\" then splitting each into random train and test subsets using `train_test_split`\n",
        "\n"
      ],
      "metadata": {
        "id": "IbPEarLpCy7S"
      }
    },
    {
      "cell_type": "code",
      "source": [
        "X = pd.DataFrame(df.data, columns=df.feature_names) # Assign indicator variables as object \"X\"\n",
        "y = pd.Series(df.target) # Assign target variable (diagnosis) as object \"y\"\n",
        "\n",
        "X_train, X_test, y_train, y_test = train_test_split(X, y) # Split the dataset into training and testing sets"
      ],
      "metadata": {
        "id": "YS9kjEbhT0Dk"
      },
      "execution_count": null,
      "outputs": []
    },
    {
      "cell_type": "markdown",
      "source": [
        "# Create KNN"
      ],
      "metadata": {
        "id": "7EJlEf7TDYIn"
      }
    },
    {
      "cell_type": "markdown",
      "source": [
        "Finally, let's use the dataset to create and train a KNN classifier to classify breast masses as benign or malignant."
      ],
      "metadata": {
        "id": "e2bkwp06E0Bv"
      }
    },
    {
      "cell_type": "code",
      "source": [
        "knn = KNeighborsClassifier(n_neighbors=5) # Create KNN classifier (⬅️✏️Try to experiment with different values of n!)\n",
        "\n",
        "knn.fit(X_train, y_train) # Train classifier using training sets\n",
        "\n",
        "y_pred = knn.predict(X_test) # Predict response for test dataset"
      ],
      "metadata": {
        "id": "BmJh5LcSYhDl"
      },
      "execution_count": null,
      "outputs": []
    },
    {
      "cell_type": "markdown",
      "source": [
        "# Performance Metrics"
      ],
      "metadata": {
        "id": "QIHqQ5PAG4Bk"
      }
    },
    {
      "cell_type": "code",
      "source": [
        "metrics.confusion_matrix(y_test, y_pred) # Return confusion matrix"
      ],
      "metadata": {
        "id": "he9FYZ33I0Gx"
      },
      "execution_count": null,
      "outputs": []
    },
    {
      "cell_type": "markdown",
      "source": [
        "**Output Explanation:** This output provides our KNN classifier's confusion matrix as an array. Each time we run this classifier on this dataset, our model will perform a bit differently. Therefore, our matrix values will change slightly, even if we don't change the code.\n",
        "\n",
        "**True Positives (TP)** **False negatives (FN)**\n",
        "\n",
        "**False positives (FP)** **True negatives (TN)**\n",
        "\n",
        "See [here](https://www.mdsd4health.com/modules/module-1-concepts-in-machine-learning-health/what-is-machine-learning#h.u1jmhd7atu9q) for a review of confusion matrices."
      ],
      "metadata": {
        "id": "JnfKvnTXu5mo"
      }
    },
    {
      "cell_type": "code",
      "source": [
        "print(\"Accuracy:\",metrics.accuracy_score(y_test, y_pred)) # Return classifier's accuracy metric\n",
        "print(\"F1 Score:\",metrics.f1_score(y_test, y_pred)) # Return classifier's F1 score\n",
        "print(\"Precision:\",metrics.precision_score(y_test, y_pred)) # Return classifier's precision metric\n",
        "print(\"Recall / Sensitivity:\",metrics.recall_score(y_test, y_pred)) # Return classifier's recall (or sensitivity) metric"
      ],
      "metadata": {
        "id": "R0FbX48tYoPu"
      },
      "execution_count": null,
      "outputs": []
    },
    {
      "cell_type": "markdown",
      "source": [
        "**Output Explanation:** This output provides a few relevant model performance metrics based on our confusion matrix.\n",
        "\n",
        "Because our confusion matrix values vary slightly at each model execution, our performance metrics vary slightly as well. For this dataset, our model should consistently be perform well (>85%)\n",
        "\n",
        "See [here](https://www.mdsd4health.com/modules/module-1-concepts-in-machine-learning-health/what-is-machine-learning#h.dr34n7h1xx5h) for a review of confusion-matrix-based performance metrics."
      ],
      "metadata": {
        "id": "tXUeMy3c2BxN"
      }
    },
    {
      "cell_type": "markdown",
      "source": [
        "# Assess\n",
        "\n",
        "Refer to the classification performance metrics information contained in [Module 1.1](https://www.mdsd4health.com/modules/module-1-concepts-in-machine-learning-health/what-is-machine-learning). How did your model perform?"
      ],
      "metadata": {
        "id": "Ax68hTqrZkTT"
      }
    }
  ]
}