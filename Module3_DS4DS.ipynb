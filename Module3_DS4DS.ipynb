{
  "nbformat": 4,
  "nbformat_minor": 0,
  "metadata": {
    "colab": {
      "name": "Module3_DS4DS.ipynb",
      "provenance": [],
      "collapsed_sections": [],
      "authorship_tag": "ABX9TyNpxga+pVo50K+JA5Vqp6EV",
      "include_colab_link": true
    },
    "kernelspec": {
      "name": "python3",
      "display_name": "Python 3"
    },
    "language_info": {
      "name": "python"
    }
  },
  "cells": [
    {
      "cell_type": "markdown",
      "metadata": {
        "id": "view-in-github",
        "colab_type": "text"
      },
      "source": [
        "<a href=\"https://colab.research.google.com/github/EdenShaveet/Disclosure-Curriculum/blob/main/Module3_DS4DS.ipynb\" target=\"_parent\"><img src=\"https://colab.research.google.com/assets/colab-badge.svg\" alt=\"Open In Colab\"/></a>"
      ]
    },
    {
      "cell_type": "markdown",
      "source": [
        "# Module Exercise: Create a Datasheet for Dataset\n",
        "\n",
        "---\n",
        "\n",
        "\n",
        "**Script Description:** Outputs a datasheet as a PDF\n",
        "\n",
        "**Script Attributions:** *Datasheets for Datasets* developed by [Gebru et al. (2021)](https://dl.acm.org/doi/10.1145/3458723). PyFPDF script developed by Shaveet (2022).\n",
        "\n",
        "**Instructions:** Upload the NHANES data subset that we created in an earlier module in the cell containing \"⬅️🗂️\" to enable automated disclosures. Insert relevant manual disclosures where you see the symbols \"⬅️✏️.\" Refer to the Datasheets for Datasets module in the MDSD4Health curriculum for a detailed list of dataset disclosures."
      ],
      "metadata": {
        "id": "3866dhZxXjzA"
      }
    },
    {
      "cell_type": "markdown",
      "source": [
        "# Uploading Dataset & Preparing PDF"
      ],
      "metadata": {
        "id": "C4Go0MObmcJM"
      }
    },
    {
      "cell_type": "markdown",
      "source": [
        "First, let's import necessary packages & install PyFPDF (the package we will use to export our datasheet as a PDF)."
      ],
      "metadata": {
        "id": "vIScwnagmo-c"
      }
    },
    {
      "cell_type": "code",
      "source": [
        "# Import packages\n",
        "import pandas as pd\n",
        "import seaborn as sns\n",
        "import io"
      ],
      "metadata": {
        "id": "IvH7adxfvJda"
      },
      "execution_count": null,
      "outputs": []
    },
    {
      "cell_type": "code",
      "source": [
        "!pip install fpdf #pyfpdf dependency management"
      ],
      "metadata": {
        "id": "V6WJQMyKXSuv"
      },
      "execution_count": null,
      "outputs": []
    },
    {
      "cell_type": "markdown",
      "source": [
        "Run the following code block, select \"choose files,\" and select your downloaded preprocessed dataset from Module 2 (NHANES_subset.csv)"
      ],
      "metadata": {
        "id": "eZxlk8RfmsZC"
      }
    },
    {
      "cell_type": "code",
      "source": [
        "# Upload dataset\n",
        "from google.colab import files ### ⬅️🗂️ Upload file ###\n",
        "uploaded = files.upload()"
      ],
      "metadata": {
        "id": "StSjLf97u-nm"
      },
      "execution_count": null,
      "outputs": []
    },
    {
      "cell_type": "markdown",
      "source": [
        "**Output Explanation:** This line of code allows you to upload files from your local file system."
      ],
      "metadata": {
        "id": "Imqax_VYnGbE"
      }
    },
    {
      "cell_type": "markdown",
      "source": [
        "Let's name our dataset \"df\""
      ],
      "metadata": {
        "id": "fxBJNGCSnIwK"
      }
    },
    {
      "cell_type": "code",
      "source": [
        "# Name dataset \"df\"\n",
        "df=pd.read_csv(io.BytesIO(uploaded['NHANES_subset.csv'])) ###⬅️✏️ Insert dataset file name###"
      ],
      "metadata": {
        "id": "KtfwfawCvDCc"
      },
      "execution_count": null,
      "outputs": []
    },
    {
      "cell_type": "markdown",
      "source": [
        "Next, we'll format our document header and footer. Add the title of the dataset where it says *Dataset Title: [INSERT HERE] ###⬅️✏️ Insert name of dataset ###*"
      ],
      "metadata": {
        "id": "0IW_jQVMs3nr"
      }
    },
    {
      "cell_type": "code",
      "source": [
        "from fpdf import FPDF #Import fpdf package\n",
        "\n",
        "# Create page header\n",
        "class PDF(FPDF):\n",
        "    def header(self):\n",
        "        self.set_font('Arial', 'B', 15) # Set font to Arial Bold, size 15\n",
        "        self.cell(70) # Move to the center\n",
        "        self.cell(30, 10, 'Datasheet for Dataset') # Set document title\n",
        "        self.ln(10) # Line break\n",
        "        self.set_font('Arial', 'B', 12)\n",
        "        self.cell(70)\n",
        "        self.cell(30, 10, 'Dataset Title: [INSERT HERE]') ###⬅️✏️ Insert name of dataset ###\n",
        "        self.ln(20) # Line break\n",
        "\n",
        "    # Create page footer\n",
        "    def footer(self):\n",
        "        self.set_y(-15) # Set position to bottom\n",
        "        self.set_font('Arial', 'I', 8) # Set font to Arial italic, size 8\n",
        "        self.cell(0, 10, 'Page ' + str(self.page_no()) + '/{nb}', 0, 0, 'C') # Self-updating  page number\n",
        "        self.ln(5) # Line break\n",
        "        self.set_font('Arial', '', 8)\n",
        "        self.cell(-8)\n",
        "        self.cell(0,10, 'Datasheets for Datasets developed by Gebru et al. (2021). PyFPDF script developed by Shaveet (2022).') #Attributions"
      ],
      "metadata": {
        "id": "nob1IXH3ZxRO"
      },
      "execution_count": null,
      "outputs": []
    },
    {
      "cell_type": "code",
      "source": [
        "# Instantiation of inherited class\n",
        "pdf = PDF()\n",
        "pdf.alias_nb_pages()\n",
        "pdf.add_page()"
      ],
      "metadata": {
        "id": "3gHV0bVibU-2"
      },
      "execution_count": null,
      "outputs": []
    },
    {
      "cell_type": "markdown",
      "source": [
        "# Automated Disclosures"
      ],
      "metadata": {
        "id": "fJRP9kQaRkXy"
      }
    },
    {
      "cell_type": "markdown",
      "source": [
        "The first disclosure we'll pull from out dataset is its shape (# rows, # columns) . Let's store it as \"dfshape\""
      ],
      "metadata": {
        "id": "mWUxbKtlnPGe"
      }
    },
    {
      "cell_type": "code",
      "source": [
        "# stores number of rows (cases) and columns (variables) as \"dfshape\"\n",
        "dfshape=str(df.shape)"
      ],
      "metadata": {
        "id": "qF44WJKRwEw0"
      },
      "execution_count": null,
      "outputs": []
    },
    {
      "cell_type": "markdown",
      "source": [
        "Then, we'll identify all of the data types in the dataset and how frequently each data type appears."
      ],
      "metadata": {
        "id": "Trw3hE5CrghX"
      }
    },
    {
      "cell_type": "code",
      "source": [
        "data = []\n",
        "for name, datatype in df.dtypes.iteritems():\n",
        "    data.append(datatype)"
      ],
      "metadata": {
        "id": "XjJ_cJFjNggd"
      },
      "execution_count": null,
      "outputs": []
    },
    {
      "cell_type": "code",
      "source": [
        "# Create empty list\n",
        "frequency = {}\n",
        "\n",
        "# iterate over the list\n",
        "for item in data:\n",
        "   # check the element in dictionary\n",
        "   if item in frequency:\n",
        "      # increment the count\n",
        "      frequency[item] += 1\n",
        "   else:\n",
        "      # initialize the count\n",
        "      frequency[item] = 1\n",
        "frequency=str(frequency)"
      ],
      "metadata": {
        "id": "zNWEv5wxr1bo"
      },
      "execution_count": null,
      "outputs": []
    },
    {
      "cell_type": "markdown",
      "source": [
        "Then, we'll put our automated disclosures in our document."
      ],
      "metadata": {
        "id": "orjsFm1zsE0r"
      }
    },
    {
      "cell_type": "code",
      "source": [
        "# AUTOMATED DATASET CHARACTERISTICS\n",
        "pdf.set_font('Times', 'B', 16)\n",
        "pdf.cell(0, 10, 'Dataset Characteristics', 1, 0, 'C')\n",
        "pdf.ln(20)\n",
        "\n",
        "pdf.set_font('Times', 'B', 12)\n",
        "pdf.cell(0, 2, 'Dataset Shape (rows, columns)')\n",
        "pdf.ln(5)\n",
        "pdf.set_font('Times', '', 10)\n",
        "pdf.cell(0, 2, dfshape)\n",
        "pdf.ln(10)\n",
        "pdf.set_font('Times', 'B', 12)\n",
        "pdf.cell(0, 2, 'Data Type Frequencies in Dataset')\n",
        "pdf.ln(5)\n",
        "pdf.set_font('Times', '', 10)\n",
        "pdf.cell(0, 2, frequency)\n",
        "pdf.ln(10)"
      ],
      "metadata": {
        "id": "-VF6smAyxJFl"
      },
      "execution_count": null,
      "outputs": []
    },
    {
      "cell_type": "markdown",
      "source": [
        "# Manual Disclosures"
      ],
      "metadata": {
        "id": "Wccr1pKGRorS"
      }
    },
    {
      "cell_type": "markdown",
      "source": [
        "The remaining disclosures in the document will be completed **manually**. Limit each line to 100 characters. For disclosures over 100 characters, create new lines by pasting the following code under your continuing disclosure:\n",
        "```\n",
        "pdf.ln(5)\n",
        "pdf.set_font('Times', '', 10)\n",
        "pdf.cell(0, 2, '[INSERT HERE]') ###⬅️✏️ Insert continued disclosures\n",
        "```\n",
        "\n",
        "For a refresher on the kind of information disclosed in Datasheets, refer to guidance available in [Submodule 3.1: Datasheets for Datasets](https://www.mdsd4health.com/modules/module-3-mdsd-methods-mediums-pt-i/datasheets-for-datasets)"
      ],
      "metadata": {
        "id": "D0gjpJBFscPP"
      }
    },
    {
      "cell_type": "markdown",
      "source": [
        "**MOTIVATION**"
      ],
      "metadata": {
        "id": "b808wVimw80m"
      }
    },
    {
      "cell_type": "code",
      "source": [
        "# MOTIVATION\n",
        "pdf.set_font('Times', 'B', 16)\n",
        "pdf.cell(0, 10, 'Motivation', 1, 0, 'C')\n",
        "pdf.ln(20)\n",
        "\n",
        "pdf.set_font('Times', 'B', 12)\n",
        "pdf.cell(0, 2, '1. Dataset Purpose')\n",
        "pdf.ln(10)\n",
        "pdf.set_font('Times', '', 10)\n",
        "pdf.cell(0, 2, '[INSERT HERE]') ###⬅️✏️ Insert disclosures relating to \"Entity affiliation\" ###\n",
        "pdf.ln(10)\n",
        "\n",
        "pdf.set_font('Times', 'B', 12)\n",
        "pdf.cell(0, 2, '2. Entity affiliation')\n",
        "pdf.ln(10)\n",
        "pdf.set_font('Times', '', 10)\n",
        "pdf.cell(0, 2, '[INSERT HERE]') ###⬅️✏️ Insert disclosures relating to \"Entity affiliation\" ###\n",
        "pdf.ln(10)\n",
        "\n",
        "pdf.set_font('Times', 'B', 12)\n",
        "pdf.cell(0, 2, '3. Funding')\n",
        "pdf.ln(10)\n",
        "pdf.set_font('Times', '', 10)\n",
        "pdf.cell(0, 2, '[INSERT HERE]') ###⬅️✏️ Insert disclosures relating to \"Funding\" ###\n",
        "pdf.ln(10)\n",
        "\n",
        "pdf.set_font('Times', 'B', 12)\n",
        "pdf.cell(0, 2, '4. Other comments')\n",
        "pdf.ln(10)\n",
        "pdf.set_font('Times', '', 10)\n",
        "pdf.cell(0, 2, '[INSERT HERE]') ###⬅️✏️ Insert other relevant \"motivation\" comments here ###\n",
        "pdf.ln(10)"
      ],
      "metadata": {
        "id": "jLoZNvGscse0"
      },
      "execution_count": null,
      "outputs": []
    },
    {
      "cell_type": "markdown",
      "source": [
        "**COMPOSITION**"
      ],
      "metadata": {
        "id": "Dtod_iFew_IS"
      }
    },
    {
      "cell_type": "code",
      "source": [
        "# COMPOSITION\n",
        "pdf.set_font('Times', 'B', 16)\n",
        "pdf.cell(0, 10, 'Composition', 1, 0, 'C')\n",
        "pdf.ln(20)\n",
        "\n",
        "pdf.set_font('Times', 'B', 12)\n",
        "pdf.cell(0, 2, '1. Instance representation')\n",
        "pdf.ln(10)\n",
        "pdf.set_font('Times', '', 10)\n",
        "pdf.cell(0, 2, '[INSERT HERE]')  ###⬅️✏️ Insert disclosures relating to \"Instance representation\" ###\n",
        "pdf.ln(10)\n",
        "\n",
        "pdf.set_font('Times', 'B', 12)\n",
        "pdf.cell(0, 2, '2. Number of instances')\n",
        "pdf.ln(10)\n",
        "pdf.set_font('Times', '', 10)\n",
        "pdf.cell(0, 2, '[INSERT HERE]') ###⬅️✏️ Insert disclosures relating to \"Number of instances\" ###\n",
        "pdf.ln(10)\n",
        "\n",
        "pdf.set_font('Times', 'B', 12)\n",
        "pdf.cell(0, 2, '3. Sample and population specification')\n",
        "pdf.ln(10)\n",
        "pdf.set_font('Times', '', 10)\n",
        "pdf.cell(0, 2, '[INSERT HERE]') ###⬅️✏️ Insert disclosures relating to \"Sample and population specification\" ###\n",
        "pdf.ln(10)\n",
        "\n",
        "pdf.set_font('Times', 'B', 12)\n",
        "pdf.cell(0, 2, '4. Data explication')\n",
        "pdf.ln(10)\n",
        "pdf.set_font('Times', '', 10)\n",
        "pdf.cell(0, 2, '[INSERT HERE]') ###⬅️✏️ Insert disclosures relating to \"Data explication\" ###\n",
        "pdf.ln(10)\n",
        "\n",
        "pdf.set_font('Times', 'B', 12)\n",
        "pdf.cell(0, 2, '5. Labels')\n",
        "pdf.ln(10)\n",
        "pdf.set_font('Times', '', 10)\n",
        "pdf.cell(0, 2, '[INSERT HERE]') ###⬅️✏️ Insert disclosures relating to \"Labels\" ###\n",
        "pdf.ln(10)\n",
        "\n",
        "pdf.set_font('Times', 'B', 12)\n",
        "pdf.cell(0, 2, '6. Missing data')\n",
        "pdf.ln(10)\n",
        "pdf.set_font('Times', '', 10)\n",
        "pdf.cell(0, 2, '[INSERT HERE]') ###⬅️✏️ Insert disclosures relating to \"Missing data\" ###\n",
        "pdf.ln(10)\n",
        "\n",
        "pdf.set_font('Times', 'B', 12)\n",
        "pdf.cell(0, 2, '7. Instance relationships')\n",
        "pdf.ln(10)\n",
        "pdf.set_font('Times', '', 10)\n",
        "pdf.cell(0, 2, '[INSERT HERE]') ###⬅️✏️ Insert disclosures relating to \"Instance relationships\" ###\n",
        "pdf.ln(10)\n",
        "\n",
        "pdf.set_font('Times', 'B', 12)\n",
        "pdf.cell(0, 2, '8. Splitting')\n",
        "pdf.ln(10)\n",
        "pdf.set_font('Times', '', 10)\n",
        "pdf.cell(0, 2, '[INSERT HERE]') ###⬅️✏️ Insert disclosures relating to \"Splitting\" ###\n",
        "pdf.ln(10)\n",
        "\n",
        "pdf.set_font('Times', 'B', 12)\n",
        "pdf.cell(0, 2, '9. Errors, noise, and redundancies')\n",
        "pdf.ln(10)\n",
        "pdf.set_font('Times', '', 10)\n",
        "pdf.cell(0, 2, '[INSERT HERE]') ###⬅️✏️ Insert disclosures relating to \"Errors, noise, and redundancies\" ###\n",
        "pdf.ln(10)\n",
        "\n",
        "pdf.set_font('Times', 'B', 12)\n",
        "pdf.cell(0, 2, '10. Self-contained vs. externally reliant')\n",
        "pdf.ln(10)\n",
        "pdf.set_font('Times', '', 10)\n",
        "pdf.cell(0, 2, '[INSERT HERE]') ###⬅️✏️ Insert disclosures relating to \"Self-contained vs. externally reliant\" ###\n",
        "pdf.ln(10)\n",
        "\n",
        "pdf.set_font('Times', 'B', 12)\n",
        "pdf.cell(0, 2, '11. Confidentiality & privacy')\n",
        "pdf.ln(10)\n",
        "pdf.set_font('Times', '', 10)\n",
        "pdf.cell(0, 2, '[INSERT HERE]') ###⬅️✏️ Insert disclosures relating to \"Confidentiality & privacy\" ###\n",
        "pdf.ln(10)\n",
        "\n",
        "pdf.set_font('Times', 'B', 12)\n",
        "pdf.cell(0, 2, '12. Emotional implications')\n",
        "pdf.ln(10)\n",
        "pdf.set_font('Times', '', 10)\n",
        "pdf.cell(0, 2, '[INSERT HERE]') ###⬅️✏️ Insert disclosures relating to \"Emotional implications\" ###\n",
        "pdf.ln(10)\n",
        "\n",
        "pdf.set_font('Times', 'B', 12)\n",
        "pdf.cell(0, 2, '13. Dataset characteristics')\n",
        "pdf.ln(10)\n",
        "pdf.set_font('Times', '', 10)\n",
        "pdf.cell(0, 2, '[INSERT HERE]') ###⬅️✏️ Insert disclosures relating to \"Dataset characteristics\" ###\n",
        "pdf.ln(10)\n",
        "\n",
        "pdf.set_font('Times', 'B', 12)\n",
        "pdf.cell(0, 2, '14. Re-identification')\n",
        "pdf.ln(10)\n",
        "pdf.set_font('Times', '', 10)\n",
        "pdf.cell(0, 2, '[INSERT HERE]') ###⬅️✏️ Insert disclosures relating to \"Number of instances\" ###\n",
        "pdf.ln(10)\n",
        "\n",
        "pdf.set_font('Times', 'B', 12)\n",
        "pdf.cell(0, 2, '15. Content sensitivity')\n",
        "pdf.ln(10)\n",
        "pdf.set_font('Times', '', 10)\n",
        "pdf.cell(0, 2, '[INSERT HERE]') ###⬅️✏️ Insert disclosures relating to \"Content sensitivity\" ###\n",
        "pdf.ln(10)\n",
        "\n",
        "pdf.set_font('Times', 'B', 12)\n",
        "pdf.cell(0, 2, '16. Other comments')\n",
        "pdf.ln(10)\n",
        "pdf.set_font('Times', '', 10)\n",
        "pdf.cell(0, 2, '[INSERT HERE]') ###⬅️✏️ Insert other relevant \"composition\" comments here ###\n",
        "pdf.ln(10)"
      ],
      "metadata": {
        "id": "GW9lbnuldMrU"
      },
      "execution_count": null,
      "outputs": []
    },
    {
      "cell_type": "markdown",
      "source": [
        "**COLLECTION PROCESS**"
      ],
      "metadata": {
        "id": "2kj77JAHxCTe"
      }
    },
    {
      "cell_type": "code",
      "source": [
        "# COLLECTION PROCESS\n",
        "pdf.set_font('Times', 'B', 16)\n",
        "pdf.cell(0, 10, 'Collection Process', 1, 0, 'C')\n",
        "pdf.ln(20)\n",
        "\n",
        "pdf.set_font('Times', 'B', 12)\n",
        "pdf.cell(0, 2, 'Collection methods')\n",
        "pdf.ln(10)\n",
        "pdf.set_font('Times', '', 10)\n",
        "pdf.cell(0, 2, '[INSERT HERE]') ###⬅️✏️ Insert disclosures relating to \"Collection methods\" ###\n",
        "pdf.ln(10)\n",
        "\n",
        "pdf.set_font('Times', 'B', 12)\n",
        "pdf.cell(0, 2, '2. Collection apparatus')\n",
        "pdf.ln(10)\n",
        "pdf.set_font('Times', '', 10)\n",
        "pdf.cell(0, 2, '[INSERT HERE]') ###⬅️✏️ Insert disclosures relating to \"Collection apparatus\" ###\n",
        "pdf.ln(10)\n",
        "\n",
        "pdf.set_font('Times', 'B', 12)\n",
        "pdf.cell(0, 2, '3. Sampling strategy')\n",
        "pdf.ln(10)\n",
        "pdf.set_font('Times', '', 10)\n",
        "pdf.cell(0, 2, '[INSERT HERE]') ###⬅️✏️ Insert disclosures relating to \"Sampling strategy\" ###\n",
        "pdf.ln(10)\n",
        "\n",
        "pdf.set_font('Times', 'B', 12)\n",
        "pdf.cell(0, 2, '4. Data curation and collection labor')\n",
        "pdf.ln(10)\n",
        "pdf.set_font('Times', '', 10)\n",
        "pdf.cell(0, 2, '[INSERT HERE]') ###⬅️✏️ Insert disclosures relating to \"Data curation and collection labor\" ###\n",
        "pdf.ln(10)\n",
        "\n",
        "pdf.set_font('Times', 'B', 12)\n",
        "pdf.cell(0, 2, '5. Timeframe')\n",
        "pdf.ln(10)\n",
        "pdf.set_font('Times', '', 10)\n",
        "pdf.cell(0, 2, '[INSERT HERE]') ###⬅️✏️ Insert disclosures relating to \"Timeframe\" ###\n",
        "pdf.ln(10)\n",
        "\n",
        "pdf.set_font('Times', 'B', 12)\n",
        "pdf.cell(0, 2, '6. Ethical review')\n",
        "pdf.ln(10)\n",
        "pdf.set_font('Times', '', 10)\n",
        "pdf.cell(0, 2, '[INSERT HERE]') ###⬅️✏️ Insert disclosures relating to \"Ethical review\" ###\n",
        "pdf.ln(10)\n",
        "\n",
        "pdf.set_font('Times', 'B', 12)\n",
        "pdf.cell(0, 2, '7. Individual/participant involvement')\n",
        "pdf.ln(10)\n",
        "pdf.set_font('Times', '', 10)\n",
        "pdf.cell(0, 2, '[INSERT HERE]') ###⬅️✏️ Insert disclosures relating to \"Individual/participant involvement\" ###\n",
        "pdf.ln(10)\n",
        "\n",
        "pdf.set_font('Times', 'B', 12)\n",
        "pdf.cell(0, 2, '8. Individual/participant notification')\n",
        "pdf.ln(10)\n",
        "pdf.set_font('Times', '', 10)\n",
        "pdf.cell(0, 2, '[INSERT HERE]') ###⬅️✏️ Insert disclosures relating to \"Individual/participant notification\" ###\n",
        "pdf.ln(10)\n",
        "\n",
        "pdf.set_font('Times', 'B', 12)\n",
        "pdf.cell(0, 2, '9. Individual/participant consent')\n",
        "pdf.ln(10)\n",
        "pdf.set_font('Times', '', 10)\n",
        "pdf.cell(0, 2, '[INSERT HERE]') ###⬅️✏️ Insert disclosures relating to \"Individual/participant consent\" ###\n",
        "pdf.ln(10)\n",
        "\n",
        "pdf.set_font('Times', 'B', 12)\n",
        "pdf.cell(0, 2, '10. Consent revocation')\n",
        "pdf.ln(10)\n",
        "pdf.set_font('Times', '', 10)\n",
        "pdf.cell(0, 2, '[INSERT HERE]') ###⬅️✏️ Insert disclosures relating to \"Consent revocation\" ###\n",
        "pdf.ln(10)\n",
        "\n",
        "pdf.set_font('Times', 'B', 12)\n",
        "pdf.cell(0, 2, '11. Impact analyses')\n",
        "pdf.ln(10)\n",
        "pdf.set_font('Times', '', 10)\n",
        "pdf.cell(0, 2, '[INSERT HERE]') ###⬅️✏️ Insert disclosures relating to \"Impact analyses\" ###\n",
        "pdf.ln(10)\n",
        "\n",
        "pdf.set_font('Times', 'B', 12)\n",
        "pdf.cell(0, 2, '12. Other comments')\n",
        "pdf.ln(10)\n",
        "pdf.set_font('Times', '', 10)\n",
        "pdf.cell(0, 2, '[INSERT HERE]') ###⬅️✏️ Insert other relevant \"collection process\" comments here ###\n",
        "pdf.ln(10)"
      ],
      "metadata": {
        "id": "IXbtxaXMdiRU"
      },
      "execution_count": null,
      "outputs": []
    },
    {
      "cell_type": "markdown",
      "source": [
        "**PREPROCESSING, CLEANING, & LABELING**"
      ],
      "metadata": {
        "id": "LrZxarU6xFQA"
      }
    },
    {
      "cell_type": "code",
      "source": [
        "# PREPROCESSESING, CLEANING, & LABELING\n",
        "pdf.set_font('Times', 'B', 16)\n",
        "pdf.cell(0, 10, 'Preprocessing, Cleaning, & Labeling', 1, 0, 'C')\n",
        "pdf.ln(20)\n",
        "\n",
        "pdf.set_font('Times', 'B', 12)\n",
        "pdf.cell(0, 2, '1. Preprocessing methods')\n",
        "pdf.ln(10)\n",
        "pdf.set_font('Times', '', 10)\n",
        "pdf.cell(0, 2, '[INSERT HERE]') ###⬅️✏️ Insert disclosures relating to \"Preprocessing methods\" ###\n",
        "pdf.ln(10)\n",
        "\n",
        "pdf.set_font('Times', 'B', 12)\n",
        "pdf.cell(0, 2, '2. Raw data availability')\n",
        "pdf.ln(10)\n",
        "pdf.set_font('Times', '', 10)\n",
        "pdf.cell(0, 2, '[INSERT HERE]') ###⬅️✏️ Insert disclosures relating to \"Raw data availability\" ###\n",
        "pdf.ln(10)\n",
        "\n",
        "pdf.set_font('Times', 'B', 12)\n",
        "pdf.cell(0, 2, '3. Preprocessing software')\n",
        "pdf.ln(10)\n",
        "pdf.set_font('Times', '', 10)\n",
        "pdf.cell(0, 2, '[INSERT HERE]') ###⬅️✏️ Insert disclosures relating to \"Preprocessing software\" ###\n",
        "pdf.ln(10)\n",
        "\n",
        "pdf.set_font('Times', 'B', 12)\n",
        "pdf.cell(0, 2, '4. Other comments')\n",
        "pdf.ln(10)\n",
        "pdf.set_font('Times', '', 10)\n",
        "pdf.cell(0, 2, '[INSERT HERE]') ###⬅️✏️ Insert other relevant \"Preprocessing, Cleaning, & Labeling\" comments here ###\n",
        "pdf.ln(10)"
      ],
      "metadata": {
        "id": "NBPub9tYdkyf"
      },
      "execution_count": null,
      "outputs": []
    },
    {
      "cell_type": "markdown",
      "source": [
        "**USES**"
      ],
      "metadata": {
        "id": "cEjtHELOxIse"
      }
    },
    {
      "cell_type": "code",
      "source": [
        "# USES\n",
        "pdf.set_font('Times', 'B', 16)\n",
        "pdf.cell(0, 10, 'Uses', 1, 0, 'C')\n",
        "pdf.ln(20)\n",
        "\n",
        "pdf.set_font('Times', 'B', 12)\n",
        "pdf.cell(0, 2, '1. Prior use')\n",
        "pdf.ln(10)\n",
        "pdf.set_font('Times', '', 10)\n",
        "pdf.cell(0, 2, '[INSERT HERE]') ###⬅️✏️ Insert disclosures relating to \"Prior use\" ###\n",
        "pdf.ln(10)\n",
        "\n",
        "pdf.set_font('Times', 'B', 12)\n",
        "pdf.cell(0, 2, '2. Use repository')\n",
        "pdf.ln(10)\n",
        "pdf.set_font('Times', '', 10)\n",
        "pdf.cell(0, 2, '[INSERT HERE]') ###⬅️✏️ Insert disclosures relating to \"Use repository\" ###\n",
        "pdf.ln(10)\n",
        "\n",
        "pdf.set_font('Times', 'B', 12)\n",
        "pdf.cell(0, 2, '3. Other uses')\n",
        "pdf.ln(10)\n",
        "pdf.set_font('Times', '', 10)\n",
        "pdf.cell(0, 2, '[INSERT HERE]') ###⬅️✏️ Insert disclosures relating to \"Other uses\" ###\n",
        "pdf.ln(10)\n",
        "\n",
        "pdf.set_font('Times', 'B', 12)\n",
        "pdf.cell(0, 2, '4. Preprocessing impact on use')\n",
        "pdf.ln(10)\n",
        "pdf.set_font('Times', '', 10)\n",
        "pdf.cell(0, 2, '[INSERT HERE]') ###⬅️✏️ Insert disclosures relating to \"Preprocessing impact on use\" ###\n",
        "pdf.ln(10)\n",
        "\n",
        "pdf.set_font('Times', 'B', 12)\n",
        "pdf.cell(0, 2, '5. Use restrictions')\n",
        "pdf.ln(10)\n",
        "pdf.set_font('Times', '', 10)\n",
        "pdf.cell(0, 2, '[INSERT HERE]') ###⬅️✏️ Insert disclosures relating to \"Use restrictions\" ###\n",
        "pdf.ln(10)\n",
        "\n",
        "pdf.set_font('Times', 'B', 12)\n",
        "pdf.cell(0, 2, '6. Other comments?')\n",
        "pdf.ln(10)\n",
        "pdf.set_font('Times', '', 10)\n",
        "pdf.cell(0, 2, '[INSERT HERE]') ###⬅️✏️ Insert other relevant \"Uses\" comments here ###\n",
        "pdf.ln(10)"
      ],
      "metadata": {
        "id": "ufKKfP6-doXW"
      },
      "execution_count": null,
      "outputs": []
    },
    {
      "cell_type": "markdown",
      "source": [
        "**DISTRIBUTION**"
      ],
      "metadata": {
        "id": "-HGLiPNwxKuR"
      }
    },
    {
      "cell_type": "code",
      "source": [
        "# DISTRIBUTION\n",
        "pdf.set_font('Times', 'B', 16)\n",
        "pdf.cell(0, 10, 'Distribution', 1, 0, 'C')\n",
        "pdf.ln(20)\n",
        "\n",
        "pdf.set_font('Times', 'B', 12)\n",
        "pdf.cell(0, 2, '1. External distribution')\n",
        "pdf.ln(10)\n",
        "pdf.set_font('Times', '', 10)\n",
        "pdf.cell(0, 2, '[INSERT HERE]') ###⬅️✏️ Insert disclosures relating to \"External distribution\" ###\n",
        "pdf.ln(10)\n",
        "\n",
        "pdf.set_font('Times', 'B', 12)\n",
        "pdf.cell(0, 2, '2. Distribution methods')\n",
        "pdf.ln(10)\n",
        "pdf.set_font('Times', '', 10)\n",
        "pdf.cell(0, 2, '[INSERT HERE]') ###⬅️✏️ Insert disclosures relating to \"Distribution methods\" ###\n",
        "pdf.ln(10)\n",
        "\n",
        "pdf.set_font('Times', 'B', 12)\n",
        "pdf.cell(0, 2, '3. Distribution time')\n",
        "pdf.ln(10)\n",
        "pdf.set_font('Times', '', 10)\n",
        "pdf.cell(0, 2, '[INSERT HERE]') ###⬅️✏️ Insert disclosures relating to \"Distribution time\" ###\n",
        "pdf.ln(10)\n",
        "\n",
        "pdf.set_font('Times', 'B', 12)\n",
        "pdf.cell(0, 2, '4. Curating entity proprietorship')\n",
        "pdf.ln(10)\n",
        "pdf.set_font('Times', '', 10)\n",
        "pdf.cell(0, 2, '[INSERT HERE]') ###⬅️✏️ Insert disclosures relating to \"Curating entity proprietorship\" ###\n",
        "pdf.ln(10)\n",
        "\n",
        "pdf.set_font('Times', 'B', 12)\n",
        "pdf.cell(0, 2, '5. Third-party proprietorship')\n",
        "pdf.ln(10)\n",
        "pdf.set_font('Times', '', 10)\n",
        "pdf.cell(0, 2, '[INSERT HERE]') ###⬅️✏️ Insert disclosures relating to \"Third-party proprietorship\" ###\n",
        "pdf.ln(10)\n",
        "\n",
        "pdf.set_font('Times', 'B', 12)\n",
        "pdf.cell(0, 2, '6. Export controls and regulatory restrictions')\n",
        "pdf.ln(10)\n",
        "pdf.set_font('Times', '', 10)\n",
        "pdf.cell(0, 2, '[INSERT HERE]') ###⬅️✏️ Insert disclosures relating to \"Export controls and regulatory restrictions\" ###\n",
        "pdf.ln(10)\n",
        "\n",
        "pdf.set_font('Times', 'B', 12)\n",
        "pdf.cell(0, 2, '7. Other comments')\n",
        "pdf.ln(10)\n",
        "pdf.set_font('Times', '', 10)\n",
        "pdf.cell(0, 2, '[INSERT HERE]') ###⬅️✏️ Insert other relevant \"Distribution\" comments here ###\n",
        "pdf.ln(10)"
      ],
      "metadata": {
        "id": "h2HPo1zUY5gU"
      },
      "execution_count": null,
      "outputs": []
    },
    {
      "cell_type": "markdown",
      "source": [
        "**MAINTENANCE**"
      ],
      "metadata": {
        "id": "QvVopsYqxNNa"
      }
    },
    {
      "cell_type": "code",
      "source": [
        "# MAINTENANCE\n",
        "pdf.set_font('Times', 'B', 16)\n",
        "pdf.cell(0, 10, 'Maintenance', 1, 0, 'C')\n",
        "pdf.ln(20)\n",
        "\n",
        "pdf.set_font('Times', 'B', 12)\n",
        "pdf.cell(0, 2, '1. Dataset hosting')\n",
        "pdf.ln(10)\n",
        "pdf.set_font('Times', '', 10)\n",
        "pdf.cell(0, 2, '[INSERT HERE]') ###⬅️✏️ Insert disclosures relating to \"Dataset hosting\" ###\n",
        "pdf.ln(10)\n",
        "\n",
        "pdf.set_font('Times', 'B', 12)\n",
        "pdf.cell(0, 2, '2. Contact')\n",
        "pdf.ln(10)\n",
        "pdf.set_font('Times', '', 10)\n",
        "pdf.cell(0, 2, '[INSERT HERE]') ###⬅️✏️ Insert disclosures relating to \"Contact\" ###\n",
        "pdf.ln(10)\n",
        "\n",
        "pdf.set_font('Times', 'B', 12)\n",
        "pdf.cell(0, 2, '3. Erratum')\n",
        "pdf.ln(10)\n",
        "pdf.set_font('Times', '', 10)\n",
        "pdf.cell(0, 2, '[INSERT HERE]') ###⬅️✏️ Insert disclosures relating to \"Erratum\" ###\n",
        "pdf.ln(10)\n",
        "\n",
        "pdf.set_font('Times', 'B', 12)\n",
        "pdf.cell(0, 2, '4. Dataset updates')\n",
        "pdf.ln(10)\n",
        "pdf.set_font('Times', '', 10)\n",
        "pdf.cell(0, 2, '[INSERT HERE]') ###⬅️✏️ Insert disclosures relating to \"Dataset updates\" ###\n",
        "pdf.ln(10)\n",
        "\n",
        "pdf.set_font('Times', 'B', 12)\n",
        "pdf.cell(0, 2, '5. Retention & Disposition')\n",
        "pdf.ln(10)\n",
        "pdf.set_font('Times', '', 10)\n",
        "pdf.cell(0, 2, '[INSERT HERE]') ###⬅️✏️ Insert disclosures relating to \"Retention & Disposition\" ###\n",
        "pdf.ln(10)\n",
        "\n",
        "pdf.set_font('Times', 'B', 12)\n",
        "pdf.cell(0, 2, '6. Version control')\n",
        "pdf.ln(10)\n",
        "pdf.set_font('Times', '', 10)\n",
        "pdf.cell(0, 2, '[INSERT HERE]') ###⬅️✏️ Insert disclosures relating to \"Version control\" ###\n",
        "pdf.ln(10)\n",
        "\n",
        "pdf.set_font('Times', 'B', 12)\n",
        "pdf.cell(0, 2, '7. Community contributions')\n",
        "pdf.ln(10)\n",
        "pdf.set_font('Times', '', 10)\n",
        "pdf.cell(0, 2, '[INSERT HERE]') ###⬅️✏️ Insert disclosures relating to \"Community contributions\" ###\n",
        "pdf.ln(10)\n",
        "\n",
        "pdf.set_font('Times', 'B', 12)\n",
        "pdf.cell(0, 2, '8. Other comments')\n",
        "pdf.ln(10)\n",
        "pdf.set_font('Times', '', 10)\n",
        "pdf.cell(0, 2, '[INSERT HERE]') ###⬅️✏️ Insert other relevant \"Maintenance\" comments here ###\n",
        "pdf.ln(10)"
      ],
      "metadata": {
        "id": "n1kf-VB6ZzyA"
      },
      "execution_count": null,
      "outputs": []
    },
    {
      "cell_type": "markdown",
      "source": [
        "# Export Document"
      ],
      "metadata": {
        "id": "E9uBN7O5xQKz"
      }
    },
    {
      "cell_type": "code",
      "source": [
        "pdf.output('DS4DS.pdf','F')"
      ],
      "metadata": {
        "colab": {
          "base_uri": "https://localhost:8080/",
          "height": 35
        },
        "id": "CK8FPuvTAGiq",
        "outputId": "159b31b7-b40c-45e9-9ece-1f33cce93a6e"
      },
      "execution_count": null,
      "outputs": [
        {
          "output_type": "execute_result",
          "data": {
            "text/plain": [
              "''"
            ],
            "application/vnd.google.colaboratory.intrinsic+json": {
              "type": "string"
            }
          },
          "metadata": {},
          "execution_count": 12
        }
      ]
    }
  ]
}